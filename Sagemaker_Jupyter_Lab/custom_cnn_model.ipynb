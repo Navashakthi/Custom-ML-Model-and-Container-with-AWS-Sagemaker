import os
import tensorflow as tf

!pip install -r requirements.txt

# Authenticate Docker to ECR
!aws ecr get-login-password --region us-east-1 | docker login --username AWS --password-stdin 123456789012.dkr.ecr.us-east-1.amazonaws.com

# Build the Docker image
!docker build -t cnn-classification-model:latest .

# Tag the Docker image
!docker tag cnn-classification-model:latest 123456789012.dkr.ecr.us-east-1.amazonaws.com/my-app-repo:latest

# Push the Docker image to ECR
!docker push 123456789012.dkr.ecr.us-east-1.amazonaws.com/my-app-repo:latest

