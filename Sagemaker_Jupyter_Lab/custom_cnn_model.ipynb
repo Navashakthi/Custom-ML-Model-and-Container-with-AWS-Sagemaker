# Authenticate Docker to ECR
aws ecr get-login-password --region us-east-1 | docker login --username AWS --password-stdin 123456789012.dkr.ecr.us-east-1.amazonaws.com

# Build the Docker image
docker build -t my-app .

# Tag the Docker image
docker tag my-app:latest 123456789012.dkr.ecr.us-east-1.amazonaws.com/my-app-repo:latest

# Push the Docker image to ECR
docker push 123456789012.dkr.ecr.us-east-1.amazonaws.com/my-app-repo:latest

