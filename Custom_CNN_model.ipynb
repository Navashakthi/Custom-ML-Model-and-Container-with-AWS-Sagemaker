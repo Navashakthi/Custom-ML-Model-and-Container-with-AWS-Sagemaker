
import os
import tensorflow as tf

!docker build -t custom_cnn_model:latest .
!aws ecr get-login-password --region <region> | docker login --username AWS --password-stdin <aws_account_id>.dkr.ecr.<region>.amazonaws.com
!docker tag custom_cnn_model:latest <aws_account_id>.dkr.ecr.<region>.amazonaws.com/<ecr_repo_name>:<tag>
!docker push <aws_account_id>.dkr.ecr.<region>.amazonaws.com/<ecr_repo_name>:<tag>
